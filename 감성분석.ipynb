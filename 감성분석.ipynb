{
 "cells": [
  {
   "cell_type": "code",
   "execution_count": 1,
   "metadata": {},
   "outputs": [
    {
     "name": "stderr",
     "output_type": "stream",
     "text": [
      "c:\\Users\\woong\\AppData\\Local\\Programs\\Python\\Python311\\Lib\\site-packages\\tqdm\\auto.py:21: TqdmWarning: IProgress not found. Please update jupyter and ipywidgets. See https://ipywidgets.readthedocs.io/en/stable/user_install.html\n",
      "  from .autonotebook import tqdm as notebook_tqdm\n"
     ]
    }
   ],
   "source": [
    "from transformers import pipeline\n",
    "import pandas as pd"
   ]
  },
  {
   "cell_type": "code",
   "execution_count": 2,
   "metadata": {},
   "outputs": [],
   "source": [
    "melon = pd.read_csv('melon_data.csv')\n",
    "genie =pd.read_csv('genie_data.csv')\n",
    "bugs = pd.read_csv('weekchart_tot_bugs.csv')"
   ]
  },
  {
   "cell_type": "code",
   "execution_count": 38,
   "metadata": {},
   "outputs": [
    {
     "data": {
      "text/html": [
       "<div>\n",
       "<style scoped>\n",
       "    .dataframe tbody tr th:only-of-type {\n",
       "        vertical-align: middle;\n",
       "    }\n",
       "\n",
       "    .dataframe tbody tr th {\n",
       "        vertical-align: top;\n",
       "    }\n",
       "\n",
       "    .dataframe thead th {\n",
       "        text-align: right;\n",
       "    }\n",
       "</style>\n",
       "<table border=\"1\" class=\"dataframe\">\n",
       "  <thead>\n",
       "    <tr style=\"text-align: right;\">\n",
       "      <th></th>\n",
       "      <th>Unnamed: 0</th>\n",
       "      <th>artist</th>\n",
       "      <th>title</th>\n",
       "      <th>song_like</th>\n",
       "      <th>rank</th>\n",
       "      <th>date</th>\n",
       "      <th>num_song_review</th>\n",
       "      <th>song_review</th>\n",
       "      <th>artist_likes</th>\n",
       "    </tr>\n",
       "  </thead>\n",
       "  <tbody>\n",
       "    <tr>\n",
       "      <th>0</th>\n",
       "      <td>0</td>\n",
       "      <td>벤</td>\n",
       "      <td>180도</td>\n",
       "      <td>170,009</td>\n",
       "      <td>1</td>\n",
       "      <td>2019.01.01</td>\n",
       "      <td>1,869개</td>\n",
       "      <td>['감성과 스킬 모두 완벽한 노래완급조절의 끝을 보여주는 벤의 대표곡', 'q0o0...</td>\n",
       "      <td>80612.0</td>\n",
       "    </tr>\n",
       "    <tr>\n",
       "      <th>1</th>\n",
       "      <td>2</td>\n",
       "      <td>엠씨더맥스 (M.C the MAX)</td>\n",
       "      <td>넘쳐흘러</td>\n",
       "      <td>170,187</td>\n",
       "      <td>2</td>\n",
       "      <td>2019.01.01</td>\n",
       "      <td>1,432개</td>\n",
       "      <td>['q0o0b', '귀가 정화된다..', '그대의 모든 흔적을 그리워하는일만이 더 ...</td>\n",
       "      <td>111316.0</td>\n",
       "    </tr>\n",
       "    <tr>\n",
       "      <th>2</th>\n",
       "      <td>4</td>\n",
       "      <td>하은 (포맨)</td>\n",
       "      <td>신용재</td>\n",
       "      <td>141,050</td>\n",
       "      <td>3</td>\n",
       "      <td>2019.01.01</td>\n",
       "      <td>625개</td>\n",
       "      <td>['q0o0b', '으 우연히라도 내 플리 흔적에 안남았으면 하는 노래그 ㅡ 저 양...</td>\n",
       "      <td>9456.0</td>\n",
       "    </tr>\n",
       "    <tr>\n",
       "      <th>3</th>\n",
       "      <td>6</td>\n",
       "      <td>제니 (JENNIE)</td>\n",
       "      <td>SOLO</td>\n",
       "      <td>222,733</td>\n",
       "      <td>4</td>\n",
       "      <td>2019.01.01</td>\n",
       "      <td>2,371개</td>\n",
       "      <td>['', '', '', 'q0o0b', 'bitch 나는 솔로~', '아니 솔로인게...</td>\n",
       "      <td>40892.0</td>\n",
       "    </tr>\n",
       "    <tr>\n",
       "      <th>4</th>\n",
       "      <td>8</td>\n",
       "      <td>MINO (송민호)</td>\n",
       "      <td>아낙네</td>\n",
       "      <td>192,304</td>\n",
       "      <td>5</td>\n",
       "      <td>2019.01.01</td>\n",
       "      <td>1,850개</td>\n",
       "      <td>['q0o0b', '2018년..ㅠ 이때로 돌아가고싶다..🥹 진짜 아무걱정없이 아낙...</td>\n",
       "      <td>87896.0</td>\n",
       "    </tr>\n",
       "    <tr>\n",
       "      <th>...</th>\n",
       "      <td>...</td>\n",
       "      <td>...</td>\n",
       "      <td>...</td>\n",
       "      <td>...</td>\n",
       "      <td>...</td>\n",
       "      <td>...</td>\n",
       "      <td>...</td>\n",
       "      <td>...</td>\n",
       "      <td>...</td>\n",
       "    </tr>\n",
       "    <tr>\n",
       "      <th>5512</th>\n",
       "      <td>5675</td>\n",
       "      <td>임창정</td>\n",
       "      <td>힘든 건 사랑이 아니다</td>\n",
       "      <td>115,794</td>\n",
       "      <td>6</td>\n",
       "      <td>2020.12.28</td>\n",
       "      <td>749개</td>\n",
       "      <td>['힘든 건 주식이 아니다', '이런 호소력 짙은 노래가 너무 잘 어울린다.. 🥺'...</td>\n",
       "      <td>89848.0</td>\n",
       "    </tr>\n",
       "    <tr>\n",
       "      <th>5513</th>\n",
       "      <td>5676</td>\n",
       "      <td>산들</td>\n",
       "      <td>취기를 빌려 (취향저격 그녀 X 산들)</td>\n",
       "      <td>235,970</td>\n",
       "      <td>7</td>\n",
       "      <td>2020.12.28</td>\n",
       "      <td>2,054개</td>\n",
       "      <td>['이 노래 어렸을때 많이 듣던 노래라 더 추억이당..노래자체가 달달하고 조타🥲🥲'...</td>\n",
       "      <td>24675.0</td>\n",
       "    </tr>\n",
       "    <tr>\n",
       "      <th>5514</th>\n",
       "      <td>5677</td>\n",
       "      <td>BLACKPINK</td>\n",
       "      <td>Lovesick Girls</td>\n",
       "      <td>234,373</td>\n",
       "      <td>8</td>\n",
       "      <td>2020.12.28</td>\n",
       "      <td>3,595개</td>\n",
       "      <td>['작사작곡 제니🥹 천재젠득', '내 인생 곡🎀🖤💡', '얘는 진짜 절대 안질린다'...</td>\n",
       "      <td>238796.0</td>\n",
       "    </tr>\n",
       "    <tr>\n",
       "      <th>5515</th>\n",
       "      <td>5678</td>\n",
       "      <td>방탄소년단</td>\n",
       "      <td>Life Goes On</td>\n",
       "      <td>244,736</td>\n",
       "      <td>9</td>\n",
       "      <td>2020.12.28</td>\n",
       "      <td>5,435개</td>\n",
       "      <td>['오랜만에 방탄 노래 들으니까 개좋네..', '새벽에 들으면 zㅣ존인 노래', '...</td>\n",
       "      <td>715340.0</td>\n",
       "    </tr>\n",
       "    <tr>\n",
       "      <th>5516</th>\n",
       "      <td>5679</td>\n",
       "      <td>릴보이 (lIlBOI)</td>\n",
       "      <td>CREDIT (Feat. 염따, 기리보이, Zion.T)</td>\n",
       "      <td>85,479</td>\n",
       "      <td>10</td>\n",
       "      <td>2020.12.28</td>\n",
       "      <td>980개</td>\n",
       "      <td>['크레딧의 계절이 온다☃️☃️☃️', '왜 눈물나냐', '이거 이후로 결승에 연말...</td>\n",
       "      <td>30692.0</td>\n",
       "    </tr>\n",
       "  </tbody>\n",
       "</table>\n",
       "<p>5517 rows × 9 columns</p>\n",
       "</div>"
      ],
      "text/plain": [
       "      Unnamed: 0               artist                            title  \\\n",
       "0              0                    벤                             180도   \n",
       "1              2  엠씨더맥스 (M.C the MAX)                             넘쳐흘러   \n",
       "2              4              하은 (포맨)                              신용재   \n",
       "3              6          제니 (JENNIE)                             SOLO   \n",
       "4              8           MINO (송민호)                              아낙네   \n",
       "...          ...                  ...                              ...   \n",
       "5512        5675                  임창정                     힘든 건 사랑이 아니다   \n",
       "5513        5676                   산들            취기를 빌려 (취향저격 그녀 X 산들)   \n",
       "5514        5677            BLACKPINK                   Lovesick Girls   \n",
       "5515        5678                방탄소년단                     Life Goes On   \n",
       "5516        5679         릴보이 (lIlBOI)  CREDIT (Feat. 염따, 기리보이, Zion.T)   \n",
       "\n",
       "     song_like  rank        date num_song_review  \\\n",
       "0      170,009     1  2019.01.01          1,869개   \n",
       "1      170,187     2  2019.01.01          1,432개   \n",
       "2      141,050     3  2019.01.01            625개   \n",
       "3      222,733     4  2019.01.01          2,371개   \n",
       "4      192,304     5  2019.01.01          1,850개   \n",
       "...        ...   ...         ...             ...   \n",
       "5512   115,794     6  2020.12.28            749개   \n",
       "5513   235,970     7  2020.12.28          2,054개   \n",
       "5514   234,373     8  2020.12.28          3,595개   \n",
       "5515   244,736     9  2020.12.28          5,435개   \n",
       "5516    85,479    10  2020.12.28            980개   \n",
       "\n",
       "                                            song_review  artist_likes  \n",
       "0     ['감성과 스킬 모두 완벽한 노래완급조절의 끝을 보여주는 벤의 대표곡', 'q0o0...       80612.0  \n",
       "1     ['q0o0b', '귀가 정화된다..', '그대의 모든 흔적을 그리워하는일만이 더 ...      111316.0  \n",
       "2     ['q0o0b', '으 우연히라도 내 플리 흔적에 안남았으면 하는 노래그 ㅡ 저 양...        9456.0  \n",
       "3     ['', '', '', 'q0o0b', 'bitch 나는 솔로~', '아니 솔로인게...       40892.0  \n",
       "4     ['q0o0b', '2018년..ㅠ 이때로 돌아가고싶다..🥹 진짜 아무걱정없이 아낙...       87896.0  \n",
       "...                                                 ...           ...  \n",
       "5512  ['힘든 건 주식이 아니다', '이런 호소력 짙은 노래가 너무 잘 어울린다.. 🥺'...       89848.0  \n",
       "5513  ['이 노래 어렸을때 많이 듣던 노래라 더 추억이당..노래자체가 달달하고 조타🥲🥲'...       24675.0  \n",
       "5514  ['작사작곡 제니🥹 천재젠득', '내 인생 곡🎀🖤💡', '얘는 진짜 절대 안질린다'...      238796.0  \n",
       "5515  ['오랜만에 방탄 노래 들으니까 개좋네..', '새벽에 들으면 zㅣ존인 노래', '...      715340.0  \n",
       "5516  ['크레딧의 계절이 온다☃️☃️☃️', '왜 눈물나냐', '이거 이후로 결승에 연말...       30692.0  \n",
       "\n",
       "[5517 rows x 9 columns]"
      ]
     },
     "execution_count": 38,
     "metadata": {},
     "output_type": "execute_result"
    }
   ],
   "source": [
    "pd.read_csv('result.csv')"
   ]
  },
  {
   "cell_type": "code",
   "execution_count": 4,
   "metadata": {},
   "outputs": [],
   "source": [
    "melon.num_song_reviews = melon.num_song_reviews.str.replace('개', '')\n",
    "melon.num_song_reviews = melon.num_song_reviews.str.replace(',' , '').astype(int)\n",
    "melon.song_likes = melon.song_likes.str.replace(',' , '').astype(int)"
   ]
  },
  {
   "cell_type": "code",
   "execution_count": 5,
   "metadata": {},
   "outputs": [],
   "source": [
    "genie.song_likes = genie.song_likes.fillna('0')\n",
    "genie.artist_likes = genie.artist_likes.fillna('0')\n",
    "genie.song_likes = genie.song_likes.str.replace(',', '').astype(int)\n",
    "genie.artist_likes = genie.artist_likes.str.replace(',', '').astype(int)"
   ]
  },
  {
   "cell_type": "code",
   "execution_count": 6,
   "metadata": {},
   "outputs": [],
   "source": [
    "bugs.song_likes = bugs.song_likes.str.replace(',', '').astype(int)\n",
    "bugs.artist_likes = bugs.artist_likes.str.replace(',', '').astype(int)"
   ]
  },
  {
   "cell_type": "code",
   "execution_count": 39,
   "metadata": {},
   "outputs": [
    {
     "data": {
      "text/html": [
       "<div>\n",
       "<style scoped>\n",
       "    .dataframe tbody tr th:only-of-type {\n",
       "        vertical-align: middle;\n",
       "    }\n",
       "\n",
       "    .dataframe tbody tr th {\n",
       "        vertical-align: top;\n",
       "    }\n",
       "\n",
       "    .dataframe thead th {\n",
       "        text-align: right;\n",
       "    }\n",
       "</style>\n",
       "<table border=\"1\" class=\"dataframe\">\n",
       "  <thead>\n",
       "    <tr style=\"text-align: right;\">\n",
       "      <th></th>\n",
       "      <th>artist</th>\n",
       "      <th>title</th>\n",
       "      <th>song_like</th>\n",
       "      <th>rank</th>\n",
       "      <th>date</th>\n",
       "      <th>num_song_review</th>\n",
       "      <th>song_review</th>\n",
       "      <th>artist_likes</th>\n",
       "    </tr>\n",
       "  </thead>\n",
       "  <tbody>\n",
       "    <tr>\n",
       "      <th>0</th>\n",
       "      <td>벤</td>\n",
       "      <td>180도</td>\n",
       "      <td>170,009</td>\n",
       "      <td>1</td>\n",
       "      <td>2019.01.01</td>\n",
       "      <td>1,869개</td>\n",
       "      <td>['감성과 스킬 모두 완벽한 노래완급조절의 끝을 보여주는 벤의 대표곡', 'q0o0...</td>\n",
       "      <td>80612.0</td>\n",
       "    </tr>\n",
       "    <tr>\n",
       "      <th>1</th>\n",
       "      <td>엠씨더맥스 (M.C the MAX)</td>\n",
       "      <td>넘쳐흘러</td>\n",
       "      <td>170,187</td>\n",
       "      <td>2</td>\n",
       "      <td>2019.01.01</td>\n",
       "      <td>1,432개</td>\n",
       "      <td>['q0o0b', '귀가 정화된다..', '그대의 모든 흔적을 그리워하는일만이 더 ...</td>\n",
       "      <td>111316.0</td>\n",
       "    </tr>\n",
       "    <tr>\n",
       "      <th>2</th>\n",
       "      <td>하은 (포맨)</td>\n",
       "      <td>신용재</td>\n",
       "      <td>141,050</td>\n",
       "      <td>3</td>\n",
       "      <td>2019.01.01</td>\n",
       "      <td>625개</td>\n",
       "      <td>['q0o0b', '으 우연히라도 내 플리 흔적에 안남았으면 하는 노래그 ㅡ 저 양...</td>\n",
       "      <td>9456.0</td>\n",
       "    </tr>\n",
       "    <tr>\n",
       "      <th>3</th>\n",
       "      <td>제니 (JENNIE)</td>\n",
       "      <td>SOLO</td>\n",
       "      <td>222,733</td>\n",
       "      <td>4</td>\n",
       "      <td>2019.01.01</td>\n",
       "      <td>2,371개</td>\n",
       "      <td>['', '', '', 'q0o0b', 'bitch 나는 솔로~', '아니 솔로인게...</td>\n",
       "      <td>40892.0</td>\n",
       "    </tr>\n",
       "    <tr>\n",
       "      <th>4</th>\n",
       "      <td>MINO (송민호)</td>\n",
       "      <td>아낙네</td>\n",
       "      <td>192,304</td>\n",
       "      <td>5</td>\n",
       "      <td>2019.01.01</td>\n",
       "      <td>1,850개</td>\n",
       "      <td>['q0o0b', '2018년..ㅠ 이때로 돌아가고싶다..🥹 진짜 아무걱정없이 아낙...</td>\n",
       "      <td>87896.0</td>\n",
       "    </tr>\n",
       "  </tbody>\n",
       "</table>\n",
       "</div>"
      ],
      "text/plain": [
       "                artist title song_like  rank        date num_song_review  \\\n",
       "0                    벤  180도   170,009     1  2019.01.01          1,869개   \n",
       "1  엠씨더맥스 (M.C the MAX)  넘쳐흘러   170,187     2  2019.01.01          1,432개   \n",
       "2              하은 (포맨)   신용재   141,050     3  2019.01.01            625개   \n",
       "3          제니 (JENNIE)  SOLO   222,733     4  2019.01.01          2,371개   \n",
       "4           MINO (송민호)   아낙네   192,304     5  2019.01.01          1,850개   \n",
       "\n",
       "                                         song_review  artist_likes  \n",
       "0  ['감성과 스킬 모두 완벽한 노래완급조절의 끝을 보여주는 벤의 대표곡', 'q0o0...       80612.0  \n",
       "1  ['q0o0b', '귀가 정화된다..', '그대의 모든 흔적을 그리워하는일만이 더 ...      111316.0  \n",
       "2  ['q0o0b', '으 우연히라도 내 플리 흔적에 안남았으면 하는 노래그 ㅡ 저 양...        9456.0  \n",
       "3  ['', '', '', 'q0o0b', 'bitch 나는 솔로~', '아니 솔로인게...       40892.0  \n",
       "4  ['q0o0b', '2018년..ㅠ 이때로 돌아가고싶다..🥹 진짜 아무걱정없이 아낙...       87896.0  "
      ]
     },
     "execution_count": 39,
     "metadata": {},
     "output_type": "execute_result"
    }
   ],
   "source": [
    "melon.head()"
   ]
  },
  {
   "cell_type": "code",
   "execution_count": null,
   "metadata": {},
   "outputs": [],
   "source": [
    "df = pd.read_csv('melon_data.csv')"
   ]
  },
  {
   "cell_type": "code",
   "execution_count": 3,
   "metadata": {},
   "outputs": [],
   "source": [
    "import re\n",
    "\n",
    "\n",
    "df['song_review'] = df['song_review'].apply(lambda x : re.sub(r'[^ ,ㄱ-ㅣ가-힣]+', \"\", x))\n",
    "df['song_review'] = df['song_review'].apply(lambda x : x.split(\",\"))\n",
    "df['song_review'] = df['song_review'].apply(lambda x : list(filter(None, x)))\n",
    "df['song_review'] = df['song_review'].apply(lambda x: [word for word in x if word != \" \"])"
   ]
  },
  {
   "cell_type": "code",
   "execution_count": 14,
   "metadata": {},
   "outputs": [
    {
     "name": "stderr",
     "output_type": "stream",
     "text": [
      "No model was supplied, defaulted to distilbert-base-uncased-finetuned-sst-2-english and revision af0f99b (https://huggingface.co/distilbert-base-uncased-finetuned-sst-2-english).\n",
      "Using a pipeline without specifying a model name and revision in production is not recommended.\n",
      "Token indices sequence length is longer than the specified maximum sequence length for this model (524 > 512). Running this sequence through the model will result in indexing errors\n"
     ]
    }
   ],
   "source": [
    "from transformers import pipeline\n",
    "import torch\n",
    "\n",
    "# 사전 훈련된 감성 분석 모델 로드\n",
    "sentiment_analyzer = pipeline(\"sentiment-analysis\")\n",
    "cnt =1\n",
    "\n",
    "max_sequence_length = 512  # 모델이 처리할 수 있는 최대 시퀀스 길이\n",
    "\n",
    "for i in range(len(df)):\n",
    "    labels = []\n",
    "\n",
    "    # 모든 텍스트에 대한 감성 분석 결과 추출\n",
    "    for text in df.loc[i, 'song_review']:\n",
    "        # 텍스트를 모델의 입력 크기에 맞게 패딩\n",
    "        try:\n",
    "            if len(text) <= max_sequence_length:\n",
    "                text = text\n",
    "            else:\n",
    "                text = text[:max_sequence_length]  # 길이가 max_sequence_length보다 길면 잘라냄\n",
    "                padding_length = max_sequence_length - len(text)\n",
    "                text += ' ' * padding_length  # 부족한 부분을 공백으로 패딩\n",
    "\n",
    "            results = sentiment_analyzer(text)\n",
    "\n",
    "            # 감성 분석 결과에 따라 점수 조정\n",
    "            if results[0]['label'] == 'POSITIVE':\n",
    "                sentiment_score = results[0]['score']\n",
    "            else:\n",
    "                sentiment_score = -results[0]['score']\n",
    "        except:\n",
    "            sentiment_score = 0\n",
    "            \n",
    "        labels.append(sentiment_score)\n",
    "\n",
    "    # 점수의 평균을 계산하여 'public opinion' 열에 저장\n",
    "    try:\n",
    "        df.loc[i, 'public opinion'] = sum(labels) / len(labels)\n",
    "    except:\n",
    "        pass\n",
    "    cnt += 1\n",
    "\n",
    "    if cnt % 100 == 0:\n",
    "        df.to_csv(f'df{cnt}.csv', index=False)\n"
   ]
  },
  {
   "cell_type": "code",
   "execution_count": 15,
   "metadata": {},
   "outputs": [],
   "source": [
    "df.to_csv('df_result.csv')"
   ]
  },
  {
   "cell_type": "code",
   "execution_count": 7,
   "metadata": {},
   "outputs": [
    {
     "name": "stderr",
     "output_type": "stream",
     "text": [
      "No model was supplied, defaulted to distilbert-base-uncased-finetuned-sst-2-english and revision af0f99b (https://huggingface.co/distilbert-base-uncased-finetuned-sst-2-english).\n",
      "Using a pipeline without specifying a model name and revision in production is not recommended.\n"
     ]
    }
   ],
   "source": [
    "sentiment_analyzer = pipeline(\"sentiment-analysis\")\n",
    "data = []\n",
    "\n",
    "for i in range(3):\n",
    "\n",
    "    # 모든 텍스트에 대한 감성 분석 결과 추출\n",
    "    for text in df.loc[i, 'song_review']:\n",
    "        results = sentiment_analyzer(text)\n",
    "        \n",
    "\n",
    "        data.append({\n",
    "            'comment' : text,\n",
    "            'label' : results[0]['label'],\n",
    "            'score' : results[0]['score']\n",
    "        })\n",
    "\n",
    "\n",
    "pd.DataFrame(data).to_csv('label.csv', index=False)"
   ]
  },
  {
   "cell_type": "code",
   "execution_count": 24,
   "metadata": {},
   "outputs": [],
   "source": [
    "melon['song_review'] = melon['song_review'].apply(lambda x : x.split(\",\"))\n",
    "melon['song_review'] = melon['song_review'].apply(lambda x : list(filter(None, x)))\n",
    "melon['song_review'] = melon['song_review'].apply(lambda x: [word for word in x if word != \" \"])"
   ]
  },
  {
   "cell_type": "code",
   "execution_count": null,
   "metadata": {},
   "outputs": [],
   "source": [
    "df = pd.read_excel('5movies.xlsx')\n",
    "df.drop('Unnamed: 0',axis=1, inplace=True)\n",
    "df.drop('Unnamed: 1',axis=1, inplace=True)"
   ]
  },
  {
   "cell_type": "code",
   "execution_count": null,
   "metadata": {},
   "outputs": [],
   "source": [
    "df = df[df['text'].notnull()]\n",
    "df['text'] = df['text'].apply(lambda x : re.sub(r'[^ ㄱ-ㅣ가-힣]+', \" \", x))"
   ]
  },
  {
   "cell_type": "code",
   "execution_count": null,
   "metadata": {},
   "outputs": [],
   "source": [
    "text = df['text'] # 시리즈 객체로 저장\n",
    "score = df['score']"
   ]
  },
  {
   "cell_type": "code",
   "execution_count": null,
   "metadata": {},
   "outputs": [],
   "source": [
    "from sklearn.model_selection import train_test_split\n",
    "train_x, test_x, train_y, test_y = train_test_split(text, score , test_size=0.2, random_state=0)\n",
    "print(len(train_x), len(train_y), len(test_x), len(test_y))"
   ]
  },
  {
   "cell_type": "code",
   "execution_count": null,
   "metadata": {},
   "outputs": [],
   "source": [
    "from sklearn.feature_extraction.text import TfidfVectorizer\n",
    "okt = Okt()\n",
    "tfv = TfidfVectorizer(tokenizer=okt.morphs, ngram_range=(1,2), min_df=3, max_df=0.9)\n",
    "tfv.fit(train_x)\n",
    "tfv_train_x = tfv.transform(train_x)\n",
    "print(tfv_train_x)"
   ]
  },
  {
   "cell_type": "code",
   "execution_count": null,
   "metadata": {},
   "outputs": [],
   "source": [
    "from sklearn.linear_model import LogisticRegression # 이진 분류 알고리즘\n",
    "from sklearn.model_selection import GridSearchCV # 하이퍼 파라미터 최적화\n",
    "\n",
    "clf = LogisticRegression(random_state=0)\n",
    "params = {'C': [15, 18, 19, 20, 22]}\n",
    "grid_cv = GridSearchCV(clf, param_grid=params, cv=3, scoring='accuracy', verbose=1)\n",
    "grid_cv.fit(tfv_train_x, train_y)\n",
    "\n",
    "# 최적의 평가 파라미터는 grid_cv.best_estimator_에 저장됨\n",
    "print(grid_cv.best_params_, grid_cv.best_score_)# 가장 적합한 파라메터, 최고 정확도 확인"
   ]
  },
  {
   "cell_type": "code",
   "execution_count": null,
   "metadata": {},
   "outputs": [],
   "source": [
    "tfv_test_x = tfv.transform(test_x)\n",
    "# test_predict = grid_cv.best_estimator_.score(tfv_test_x,test_y)\n",
    "test_predict = grid_cv.best_estimator_.predict(tfv_test_x)\n",
    "from sklearn.metrics import accuracy_score\n",
    "print('감성 분류 모델의 정확도 : ',round(accuracy_score(test_y, test_predict), 3))"
   ]
  },
  {
   "cell_type": "code",
   "execution_count": null,
   "metadata": {},
   "outputs": [],
   "source": [
    "data = pd.read_csv('public opinion.csv')"
   ]
  },
  {
   "cell_type": "code",
   "execution_count": null,
   "metadata": {},
   "outputs": [],
   "source": [
    "data['song_review'] = data['song_review'].apply(lambda x : re.sub(r'[^ ,ㄱ-ㅣ가-힣]+', \"\", x))\n",
    "data['song_review'] = data['song_review'].apply(lambda x : x.split(\",\"))\n",
    "data['song_review'] = data['song_review'].apply(lambda x : list(filter(None, x)))\n",
    "data['song_review'] = data['song_review'].apply(lambda x: [word for word in x if word != \" \"])"
   ]
  },
  {
   "cell_type": "code",
   "execution_count": null,
   "metadata": {},
   "outputs": [],
   "source": [
    "result1 = []\n",
    "def public(input_text):\n",
    "    for i in range(len(input_text)):\n",
    "        opi = []\n",
    "        for text in input_text.loc[i, 'song_review']:\n",
    "            # 입력 텍스트의 피처 벡터화\n",
    "            st_tfidf = tfv.transform([text])\n",
    "            # 최적 감성 분석 모델에 적용하여 감성 분석 평가\n",
    "            st_predict = grid_cv.best_estimator_.predict(st_tfidf)\n",
    "            #예측 결과 출력\n",
    "            if(st_predict == 0):\n",
    "                opi.append(0)\n",
    "            else :\n",
    "                opi.append(1)\n",
    "        try:\n",
    "            op = sum(opi) / len(opi)\n",
    "        except:\n",
    "            pass\n",
    "\n",
    "        if op == 0.5:\n",
    "            result_text = '중립'\n",
    "        elif op > 0.5:\n",
    "            result_text ='긍정'\n",
    "        else:\n",
    "            result_text = '부정'\n",
    "\n",
    "        result1.append({\n",
    "            'artist' : input_text.loc[i, 'artist'],\n",
    "            'title' : input_text.loc[i, 'title'],\n",
    "            'song_review' : input_text.loc[i, 'song_review'],\n",
    "            'opinion' : op,\n",
    "            'public_opinion' : result_text\n",
    "        })"
   ]
  },
  {
   "cell_type": "code",
   "execution_count": null,
   "metadata": {},
   "outputs": [],
   "source": [
    "melon = pd.read_csv('melon_data.csv')\n",
    "release = pd.read_csv('release_date.csv')\n",
    "opinion_data = pd.DataFrame(result1)"
   ]
  },
  {
   "cell_type": "code",
   "execution_count": null,
   "metadata": {},
   "outputs": [],
   "source": [
    "release1 = release.copy()"
   ]
  },
  {
   "cell_type": "code",
   "execution_count": null,
   "metadata": {},
   "outputs": [],
   "source": [
    "for i in melon.title:\n",
    "    release1 = release1[release1['title'] != i]"
   ]
  },
  {
   "cell_type": "code",
   "execution_count": null,
   "metadata": {},
   "outputs": [],
   "source": [
    "for i in release1.title:\n",
    "    release = release[release['title'] != i]"
   ]
  },
  {
   "cell_type": "code",
   "execution_count": null,
   "metadata": {},
   "outputs": [],
   "source": [
    "df = pd.merge(melon, release, on='title', how='left')\n",
    "result = pd.merge(df, opinion_data, on='title', how='left')"
   ]
  },
  {
   "cell_type": "code",
   "execution_count": null,
   "metadata": {},
   "outputs": [],
   "source": [
    "result.drop(columns='song_review_x', axis=1, inplace=True)\n",
    "result.drop(columns='artist_y', axis=1, inplace=True)"
   ]
  },
  {
   "cell_type": "code",
   "execution_count": null,
   "metadata": {},
   "outputs": [],
   "source": [
    "result['date'] = pd.to_datetime(result['date'])\n",
    "result['Release'] = pd.to_datetime(result['Release'])"
   ]
  },
  {
   "cell_type": "code",
   "execution_count": null,
   "metadata": {},
   "outputs": [],
   "source": [
    "result.rename(columns={\n",
    "    'artist_x' : 'artist',\n",
    "    'song_review_y' : 'song_review'\n",
    "}, inplace=True)"
   ]
  },
  {
   "cell_type": "code",
   "execution_count": null,
   "metadata": {},
   "outputs": [],
   "source": [
    "result['chartin'] = result['date']-result['Release']"
   ]
  },
  {
   "cell_type": "code",
   "execution_count": null,
   "metadata": {},
   "outputs": [],
   "source": [
    "result.to_csv('melon_data_result.csv', index=False)"
   ]
  }
 ],
 "metadata": {
  "kernelspec": {
   "display_name": "Python 3",
   "language": "python",
   "name": "python3"
  },
  "language_info": {
   "codemirror_mode": {
    "name": "ipython",
    "version": 3
   },
   "file_extension": ".py",
   "mimetype": "text/x-python",
   "name": "python",
   "nbconvert_exporter": "python",
   "pygments_lexer": "ipython3",
   "version": "3.11.3"
  },
  "orig_nbformat": 4
 },
 "nbformat": 4,
 "nbformat_minor": 2
}
